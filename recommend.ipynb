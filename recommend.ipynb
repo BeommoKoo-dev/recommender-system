{
  "nbformat": 4,
  "nbformat_minor": 0,
  "metadata": {
    "colab": {
      "provenance": [],
      "mount_file_id": "17PhBd_M5cxuSRzAa1qldVbUDLvOyfP1n",
      "authorship_tag": "ABX9TyMgRXIuQvukUwnCJ0a4pEnd",
      "include_colab_link": true
    },
    "kernelspec": {
      "name": "python3",
      "display_name": "Python 3"
    },
    "language_info": {
      "name": "python"
    }
  },
  "cells": [
    {
      "cell_type": "markdown",
      "metadata": {
        "id": "view-in-github",
        "colab_type": "text"
      },
      "source": [
        "<a href=\"https://colab.research.google.com/github/BeommoKoo-dev/recommender-system/blob/beommo/recommend.ipynb\" target=\"_parent\"><img src=\"https://colab.research.google.com/assets/colab-badge.svg\" alt=\"Open In Colab\"/></a>"
      ]
    },
    {
      "cell_type": "code",
      "execution_count": 2,
      "metadata": {
        "id": "LmndZ7QIuH6K",
        "colab": {
          "base_uri": "https://localhost:8080/"
        },
        "outputId": "2d83e13e-c59e-44a6-91c9-b7401854a4d7"
      },
      "outputs": [
        {
          "output_type": "stream",
          "name": "stdout",
          "text": [
            "Requirement already satisfied: keybert in /usr/local/lib/python3.10/dist-packages (0.8.3)\n",
            "Requirement already satisfied: sentence-transformers>=0.3.8 in /usr/local/lib/python3.10/dist-packages (from keybert) (2.2.2)\n",
            "Requirement already satisfied: scikit-learn>=0.22.2 in /usr/local/lib/python3.10/dist-packages (from keybert) (1.2.2)\n",
            "Requirement already satisfied: numpy>=1.18.5 in /usr/local/lib/python3.10/dist-packages (from keybert) (1.23.5)\n",
            "Requirement already satisfied: rich>=10.4.0 in /usr/local/lib/python3.10/dist-packages (from keybert) (13.6.0)\n",
            "Requirement already satisfied: markdown-it-py>=2.2.0 in /usr/local/lib/python3.10/dist-packages (from rich>=10.4.0->keybert) (3.0.0)\n",
            "Requirement already satisfied: pygments<3.0.0,>=2.13.0 in /usr/local/lib/python3.10/dist-packages (from rich>=10.4.0->keybert) (2.16.1)\n",
            "Requirement already satisfied: scipy>=1.3.2 in /usr/local/lib/python3.10/dist-packages (from scikit-learn>=0.22.2->keybert) (1.11.3)\n",
            "Requirement already satisfied: joblib>=1.1.1 in /usr/local/lib/python3.10/dist-packages (from scikit-learn>=0.22.2->keybert) (1.3.2)\n",
            "Requirement already satisfied: threadpoolctl>=2.0.0 in /usr/local/lib/python3.10/dist-packages (from scikit-learn>=0.22.2->keybert) (3.2.0)\n",
            "Requirement already satisfied: transformers<5.0.0,>=4.6.0 in /usr/local/lib/python3.10/dist-packages (from sentence-transformers>=0.3.8->keybert) (4.34.1)\n",
            "Requirement already satisfied: tqdm in /usr/local/lib/python3.10/dist-packages (from sentence-transformers>=0.3.8->keybert) (4.66.1)\n",
            "Requirement already satisfied: torch>=1.6.0 in /usr/local/lib/python3.10/dist-packages (from sentence-transformers>=0.3.8->keybert) (2.1.0+cu118)\n",
            "Requirement already satisfied: torchvision in /usr/local/lib/python3.10/dist-packages (from sentence-transformers>=0.3.8->keybert) (0.16.0+cu118)\n",
            "Requirement already satisfied: nltk in /usr/local/lib/python3.10/dist-packages (from sentence-transformers>=0.3.8->keybert) (3.8.1)\n",
            "Requirement already satisfied: sentencepiece in /usr/local/lib/python3.10/dist-packages (from sentence-transformers>=0.3.8->keybert) (0.1.99)\n",
            "Requirement already satisfied: huggingface-hub>=0.4.0 in /usr/local/lib/python3.10/dist-packages (from sentence-transformers>=0.3.8->keybert) (0.17.3)\n",
            "Requirement already satisfied: filelock in /usr/local/lib/python3.10/dist-packages (from huggingface-hub>=0.4.0->sentence-transformers>=0.3.8->keybert) (3.12.4)\n",
            "Requirement already satisfied: fsspec in /usr/local/lib/python3.10/dist-packages (from huggingface-hub>=0.4.0->sentence-transformers>=0.3.8->keybert) (2023.6.0)\n",
            "Requirement already satisfied: requests in /usr/local/lib/python3.10/dist-packages (from huggingface-hub>=0.4.0->sentence-transformers>=0.3.8->keybert) (2.31.0)\n",
            "Requirement already satisfied: pyyaml>=5.1 in /usr/local/lib/python3.10/dist-packages (from huggingface-hub>=0.4.0->sentence-transformers>=0.3.8->keybert) (6.0.1)\n",
            "Requirement already satisfied: typing-extensions>=3.7.4.3 in /usr/local/lib/python3.10/dist-packages (from huggingface-hub>=0.4.0->sentence-transformers>=0.3.8->keybert) (4.5.0)\n",
            "Requirement already satisfied: packaging>=20.9 in /usr/local/lib/python3.10/dist-packages (from huggingface-hub>=0.4.0->sentence-transformers>=0.3.8->keybert) (23.2)\n",
            "Requirement already satisfied: mdurl~=0.1 in /usr/local/lib/python3.10/dist-packages (from markdown-it-py>=2.2.0->rich>=10.4.0->keybert) (0.1.2)\n",
            "Requirement already satisfied: sympy in /usr/local/lib/python3.10/dist-packages (from torch>=1.6.0->sentence-transformers>=0.3.8->keybert) (1.12)\n",
            "Requirement already satisfied: networkx in /usr/local/lib/python3.10/dist-packages (from torch>=1.6.0->sentence-transformers>=0.3.8->keybert) (3.2)\n",
            "Requirement already satisfied: jinja2 in /usr/local/lib/python3.10/dist-packages (from torch>=1.6.0->sentence-transformers>=0.3.8->keybert) (3.1.2)\n",
            "Requirement already satisfied: triton==2.1.0 in /usr/local/lib/python3.10/dist-packages (from torch>=1.6.0->sentence-transformers>=0.3.8->keybert) (2.1.0)\n",
            "Requirement already satisfied: regex!=2019.12.17 in /usr/local/lib/python3.10/dist-packages (from transformers<5.0.0,>=4.6.0->sentence-transformers>=0.3.8->keybert) (2023.6.3)\n",
            "Requirement already satisfied: tokenizers<0.15,>=0.14 in /usr/local/lib/python3.10/dist-packages (from transformers<5.0.0,>=4.6.0->sentence-transformers>=0.3.8->keybert) (0.14.1)\n",
            "Requirement already satisfied: safetensors>=0.3.1 in /usr/local/lib/python3.10/dist-packages (from transformers<5.0.0,>=4.6.0->sentence-transformers>=0.3.8->keybert) (0.4.0)\n",
            "Requirement already satisfied: click in /usr/local/lib/python3.10/dist-packages (from nltk->sentence-transformers>=0.3.8->keybert) (8.1.7)\n",
            "Requirement already satisfied: pillow!=8.3.*,>=5.3.0 in /usr/local/lib/python3.10/dist-packages (from torchvision->sentence-transformers>=0.3.8->keybert) (9.4.0)\n",
            "Requirement already satisfied: MarkupSafe>=2.0 in /usr/local/lib/python3.10/dist-packages (from jinja2->torch>=1.6.0->sentence-transformers>=0.3.8->keybert) (2.1.3)\n",
            "Requirement already satisfied: charset-normalizer<4,>=2 in /usr/local/lib/python3.10/dist-packages (from requests->huggingface-hub>=0.4.0->sentence-transformers>=0.3.8->keybert) (3.3.0)\n",
            "Requirement already satisfied: idna<4,>=2.5 in /usr/local/lib/python3.10/dist-packages (from requests->huggingface-hub>=0.4.0->sentence-transformers>=0.3.8->keybert) (3.4)\n",
            "Requirement already satisfied: urllib3<3,>=1.21.1 in /usr/local/lib/python3.10/dist-packages (from requests->huggingface-hub>=0.4.0->sentence-transformers>=0.3.8->keybert) (2.0.7)\n",
            "Requirement already satisfied: certifi>=2017.4.17 in /usr/local/lib/python3.10/dist-packages (from requests->huggingface-hub>=0.4.0->sentence-transformers>=0.3.8->keybert) (2023.7.22)\n",
            "Requirement already satisfied: mpmath>=0.19 in /usr/local/lib/python3.10/dist-packages (from sympy->torch>=1.6.0->sentence-transformers>=0.3.8->keybert) (1.3.0)\n",
            "Requirement already satisfied: POT in /usr/local/lib/python3.10/dist-packages (0.9.1)\n",
            "Requirement already satisfied: numpy>=1.16 in /usr/local/lib/python3.10/dist-packages (from POT) (1.23.5)\n",
            "Requirement already satisfied: scipy>=1.0 in /usr/local/lib/python3.10/dist-packages (from POT) (1.11.3)\n"
          ]
        }
      ],
      "source": [
        "!pip install keybert\n",
        "!pip install POT"
      ]
    },
    {
      "cell_type": "code",
      "source": [
        "from keybert import KeyBERT\n",
        "import gensim\n",
        "from gensim.models import KeyedVectors\n",
        "%matplotlib inline\n",
        "import matplotlib.pyplot as plt\n",
        "plt.style.use('ggplot')\n",
        "from sklearn.decomposition import PCA\n",
        "\n",
        "from gensim.test.utils import datapath, get_tmpfile\n",
        "from gensim.models import KeyedVectors\n",
        "from gensim.scripts.glove2word2vec import glove2word2vec\n",
        "import numpy as np\n",
        "import pandas as pd\n",
        "\n",
        "import matplotlib.pyplot as plt\n",
        "from matplotlib.lines import Line2D\n",
        "import seaborn as sns\n",
        "\n",
        "from gensim.models import LdaModel\n",
        "from gensim import corpora\n",
        "from sklearn.manifold import TSNE\n",
        "from gensim.models import Word2Vec, KeyedVectors\n",
        "\n",
        "# unused but required import for doing 3d projections with matplotlib < 3.2\n",
        "# import mpl_toolkits.mplot3d  # noqa: F401\n",
        "# from matplotlib import ticker\n",
        "\n",
        "from sklearn import datasets, manifold\n",
        "import json\n",
        "import csv\n",
        "import spacy\n",
        "import warnings\n",
        "warnings.filterwarnings(\"ignore\")\n",
        "warnings.filterwarnings(action='ignore',category=UserWarning,module='keyedvectors')\n",
        "warnings.filterwarnings(action='ignore',category=FutureWarning,module='keyedvectors')"
      ],
      "metadata": {
        "id": "p_qt7cKobRBP"
      },
      "execution_count": 4,
      "outputs": []
    },
    {
      "cell_type": "code",
      "source": [
        "### movie keyword extraction\n",
        "\n",
        "movieCount = 200  # How many movies from .json\n",
        "keywordCount = 15 # How many keywords for each movie\n",
        "\n",
        "# Data Structures and Models\n",
        "movies = []\n",
        "synopsis = []\n",
        "rows = []\n",
        "kw_model = KeyBERT()\n",
        "sp_model = spacy.load(\"en_core_web_sm\")\n",
        "\n",
        "# Reading .json\n",
        "jsonFilePath = \"movie_data.json\"\n",
        "with open(jsonFilePath, 'r', encoding='utf-8') as jsonFile:\n",
        "    movieReader = (json.loads(line) for line in jsonFile)\n",
        "\n",
        "    count = 0\n",
        "    for movieData in movieReader:\n",
        "        if count >= movieCount:\n",
        "            break\n",
        "        if count % 10 == 0:\n",
        "            print(f'Reading File.. ({count}/{movieCount})')\n",
        "\n",
        "        movieID = movieData.get('movie_id', '')\n",
        "        movies.append(movieID)\n",
        "\n",
        "        movieSummary = movieData.get('plot_synopsis', '')\n",
        "        keywords = kw_model.extract_keywords(movieSummary, top_n=keywordCount)\n",
        "        keyList = [keyword[0] for keyword in keywords]\n",
        "        # extracting needless names\n",
        "        filtered_keywords = []\n",
        "        for keyword in keyList:\n",
        "            doc = sp_model(keyword)\n",
        "            is_name = any(token.ent_type_ == \"PERSON\" and token.ent_iob_ != '0' for token in doc)\n",
        "\n",
        "            if not is_name:\n",
        "                filtered_keywords.append(keyword)\n",
        "\n",
        "        keyString = ', '.join(filtered_keywords)\n",
        "\n",
        "        synopsis.append(keyString)\n",
        "\n",
        "        count += 1"
      ],
      "metadata": {
        "colab": {
          "base_uri": "https://localhost:8080/",
          "height": 418
        },
        "id": "NxtwC4BiARuc",
        "outputId": "6f7775d5-67af-45a8-ea50-7337c44dd170"
      },
      "execution_count": 5,
      "outputs": [
        {
          "output_type": "error",
          "ename": "KeyboardInterrupt",
          "evalue": "ignored",
          "traceback": [
            "\u001b[0;31m---------------------------------------------------------------------------\u001b[0m",
            "\u001b[0;31mKeyboardInterrupt\u001b[0m                         Traceback (most recent call last)",
            "\u001b[0;32m<ipython-input-5-6d0c5c67fe80>\u001b[0m in \u001b[0;36m<cell line: 11>\u001b[0;34m()\u001b[0m\n\u001b[1;32m      9\u001b[0m \u001b[0mrows\u001b[0m \u001b[0;34m=\u001b[0m \u001b[0;34m[\u001b[0m\u001b[0;34m]\u001b[0m\u001b[0;34m\u001b[0m\u001b[0;34m\u001b[0m\u001b[0m\n\u001b[1;32m     10\u001b[0m \u001b[0mkw_model\u001b[0m \u001b[0;34m=\u001b[0m \u001b[0mKeyBERT\u001b[0m\u001b[0;34m(\u001b[0m\u001b[0;34m)\u001b[0m\u001b[0;34m\u001b[0m\u001b[0;34m\u001b[0m\u001b[0m\n\u001b[0;32m---> 11\u001b[0;31m \u001b[0msp_model\u001b[0m \u001b[0;34m=\u001b[0m \u001b[0mspacy\u001b[0m\u001b[0;34m.\u001b[0m\u001b[0mload\u001b[0m\u001b[0;34m(\u001b[0m\u001b[0;34m\"en_core_web_sm\"\u001b[0m\u001b[0;34m)\u001b[0m\u001b[0;34m\u001b[0m\u001b[0;34m\u001b[0m\u001b[0m\n\u001b[0m\u001b[1;32m     12\u001b[0m \u001b[0;34m\u001b[0m\u001b[0m\n\u001b[1;32m     13\u001b[0m \u001b[0;31m# Reading .json\u001b[0m\u001b[0;34m\u001b[0m\u001b[0;34m\u001b[0m\u001b[0m\n",
            "\u001b[0;32m/usr/local/lib/python3.10/dist-packages/spacy/__init__.py\u001b[0m in \u001b[0;36mload\u001b[0;34m(name, vocab, disable, enable, exclude, config)\u001b[0m\n\u001b[1;32m     49\u001b[0m     \u001b[0mRETURNS\u001b[0m \u001b[0;34m(\u001b[0m\u001b[0mLanguage\u001b[0m\u001b[0;34m)\u001b[0m\u001b[0;34m:\u001b[0m \u001b[0mThe\u001b[0m \u001b[0mloaded\u001b[0m \u001b[0mnlp\u001b[0m \u001b[0mobject\u001b[0m\u001b[0;34m.\u001b[0m\u001b[0;34m\u001b[0m\u001b[0;34m\u001b[0m\u001b[0m\n\u001b[1;32m     50\u001b[0m     \"\"\"\n\u001b[0;32m---> 51\u001b[0;31m     return util.load_model(\n\u001b[0m\u001b[1;32m     52\u001b[0m         \u001b[0mname\u001b[0m\u001b[0;34m,\u001b[0m\u001b[0;34m\u001b[0m\u001b[0;34m\u001b[0m\u001b[0m\n\u001b[1;32m     53\u001b[0m         \u001b[0mvocab\u001b[0m\u001b[0;34m=\u001b[0m\u001b[0mvocab\u001b[0m\u001b[0;34m,\u001b[0m\u001b[0;34m\u001b[0m\u001b[0;34m\u001b[0m\u001b[0m\n",
            "\u001b[0;32m/usr/local/lib/python3.10/dist-packages/spacy/util.py\u001b[0m in \u001b[0;36mload_model\u001b[0;34m(name, vocab, disable, enable, exclude, config)\u001b[0m\n\u001b[1;32m    463\u001b[0m             \u001b[0;32mreturn\u001b[0m \u001b[0mget_lang_class\u001b[0m\u001b[0;34m(\u001b[0m\u001b[0mname\u001b[0m\u001b[0;34m.\u001b[0m\u001b[0mreplace\u001b[0m\u001b[0;34m(\u001b[0m\u001b[0;34m\"blank:\"\u001b[0m\u001b[0;34m,\u001b[0m \u001b[0;34m\"\"\u001b[0m\u001b[0;34m)\u001b[0m\u001b[0;34m)\u001b[0m\u001b[0;34m(\u001b[0m\u001b[0;34m)\u001b[0m\u001b[0;34m\u001b[0m\u001b[0;34m\u001b[0m\u001b[0m\n\u001b[1;32m    464\u001b[0m         \u001b[0;32mif\u001b[0m \u001b[0mis_package\u001b[0m\u001b[0;34m(\u001b[0m\u001b[0mname\u001b[0m\u001b[0;34m)\u001b[0m\u001b[0;34m:\u001b[0m  \u001b[0;31m# installed as package\u001b[0m\u001b[0;34m\u001b[0m\u001b[0;34m\u001b[0m\u001b[0m\n\u001b[0;32m--> 465\u001b[0;31m             \u001b[0;32mreturn\u001b[0m \u001b[0mload_model_from_package\u001b[0m\u001b[0;34m(\u001b[0m\u001b[0mname\u001b[0m\u001b[0;34m,\u001b[0m \u001b[0;34m**\u001b[0m\u001b[0mkwargs\u001b[0m\u001b[0;34m)\u001b[0m  \u001b[0;31m# type: ignore[arg-type]\u001b[0m\u001b[0;34m\u001b[0m\u001b[0;34m\u001b[0m\u001b[0m\n\u001b[0m\u001b[1;32m    466\u001b[0m         \u001b[0;32mif\u001b[0m \u001b[0mPath\u001b[0m\u001b[0;34m(\u001b[0m\u001b[0mname\u001b[0m\u001b[0;34m)\u001b[0m\u001b[0;34m.\u001b[0m\u001b[0mexists\u001b[0m\u001b[0;34m(\u001b[0m\u001b[0;34m)\u001b[0m\u001b[0;34m:\u001b[0m  \u001b[0;31m# path to model data directory\u001b[0m\u001b[0;34m\u001b[0m\u001b[0;34m\u001b[0m\u001b[0m\n\u001b[1;32m    467\u001b[0m             \u001b[0;32mreturn\u001b[0m \u001b[0mload_model_from_path\u001b[0m\u001b[0;34m(\u001b[0m\u001b[0mPath\u001b[0m\u001b[0;34m(\u001b[0m\u001b[0mname\u001b[0m\u001b[0;34m)\u001b[0m\u001b[0;34m,\u001b[0m \u001b[0;34m**\u001b[0m\u001b[0mkwargs\u001b[0m\u001b[0;34m)\u001b[0m  \u001b[0;31m# type: ignore[arg-type]\u001b[0m\u001b[0;34m\u001b[0m\u001b[0;34m\u001b[0m\u001b[0m\n",
            "\u001b[0;32m/usr/local/lib/python3.10/dist-packages/spacy/util.py\u001b[0m in \u001b[0;36mload_model_from_package\u001b[0;34m(name, vocab, disable, enable, exclude, config)\u001b[0m\n\u001b[1;32m    499\u001b[0m     \"\"\"\n\u001b[1;32m    500\u001b[0m     \u001b[0mcls\u001b[0m \u001b[0;34m=\u001b[0m \u001b[0mimportlib\u001b[0m\u001b[0;34m.\u001b[0m\u001b[0mimport_module\u001b[0m\u001b[0;34m(\u001b[0m\u001b[0mname\u001b[0m\u001b[0;34m)\u001b[0m\u001b[0;34m\u001b[0m\u001b[0;34m\u001b[0m\u001b[0m\n\u001b[0;32m--> 501\u001b[0;31m     \u001b[0;32mreturn\u001b[0m \u001b[0mcls\u001b[0m\u001b[0;34m.\u001b[0m\u001b[0mload\u001b[0m\u001b[0;34m(\u001b[0m\u001b[0mvocab\u001b[0m\u001b[0;34m=\u001b[0m\u001b[0mvocab\u001b[0m\u001b[0;34m,\u001b[0m \u001b[0mdisable\u001b[0m\u001b[0;34m=\u001b[0m\u001b[0mdisable\u001b[0m\u001b[0;34m,\u001b[0m \u001b[0menable\u001b[0m\u001b[0;34m=\u001b[0m\u001b[0menable\u001b[0m\u001b[0;34m,\u001b[0m \u001b[0mexclude\u001b[0m\u001b[0;34m=\u001b[0m\u001b[0mexclude\u001b[0m\u001b[0;34m,\u001b[0m \u001b[0mconfig\u001b[0m\u001b[0;34m=\u001b[0m\u001b[0mconfig\u001b[0m\u001b[0;34m)\u001b[0m  \u001b[0;31m# type: ignore[attr-defined]\u001b[0m\u001b[0;34m\u001b[0m\u001b[0;34m\u001b[0m\u001b[0m\n\u001b[0m\u001b[1;32m    502\u001b[0m \u001b[0;34m\u001b[0m\u001b[0m\n\u001b[1;32m    503\u001b[0m \u001b[0;34m\u001b[0m\u001b[0m\n",
            "\u001b[0;32m/usr/local/lib/python3.10/dist-packages/en_core_web_sm/__init__.py\u001b[0m in \u001b[0;36mload\u001b[0;34m(**overrides)\u001b[0m\n\u001b[1;32m      8\u001b[0m \u001b[0;34m\u001b[0m\u001b[0m\n\u001b[1;32m      9\u001b[0m \u001b[0;32mdef\u001b[0m \u001b[0mload\u001b[0m\u001b[0;34m(\u001b[0m\u001b[0;34m**\u001b[0m\u001b[0moverrides\u001b[0m\u001b[0;34m)\u001b[0m\u001b[0;34m:\u001b[0m\u001b[0;34m\u001b[0m\u001b[0;34m\u001b[0m\u001b[0m\n\u001b[0;32m---> 10\u001b[0;31m     \u001b[0;32mreturn\u001b[0m \u001b[0mload_model_from_init_py\u001b[0m\u001b[0;34m(\u001b[0m\u001b[0m__file__\u001b[0m\u001b[0;34m,\u001b[0m \u001b[0;34m**\u001b[0m\u001b[0moverrides\u001b[0m\u001b[0;34m)\u001b[0m\u001b[0;34m\u001b[0m\u001b[0;34m\u001b[0m\u001b[0m\n\u001b[0m",
            "\u001b[0;32m/usr/local/lib/python3.10/dist-packages/spacy/util.py\u001b[0m in \u001b[0;36mload_model_from_init_py\u001b[0;34m(init_file, vocab, disable, enable, exclude, config)\u001b[0m\n\u001b[1;32m    680\u001b[0m     \u001b[0;32mif\u001b[0m \u001b[0;32mnot\u001b[0m \u001b[0mmodel_path\u001b[0m\u001b[0;34m.\u001b[0m\u001b[0mexists\u001b[0m\u001b[0;34m(\u001b[0m\u001b[0;34m)\u001b[0m\u001b[0;34m:\u001b[0m\u001b[0;34m\u001b[0m\u001b[0;34m\u001b[0m\u001b[0m\n\u001b[1;32m    681\u001b[0m         \u001b[0;32mraise\u001b[0m \u001b[0mIOError\u001b[0m\u001b[0;34m(\u001b[0m\u001b[0mErrors\u001b[0m\u001b[0;34m.\u001b[0m\u001b[0mE052\u001b[0m\u001b[0;34m.\u001b[0m\u001b[0mformat\u001b[0m\u001b[0;34m(\u001b[0m\u001b[0mpath\u001b[0m\u001b[0;34m=\u001b[0m\u001b[0mdata_path\u001b[0m\u001b[0;34m)\u001b[0m\u001b[0;34m)\u001b[0m\u001b[0;34m\u001b[0m\u001b[0;34m\u001b[0m\u001b[0m\n\u001b[0;32m--> 682\u001b[0;31m     return load_model_from_path(\n\u001b[0m\u001b[1;32m    683\u001b[0m         \u001b[0mdata_path\u001b[0m\u001b[0;34m,\u001b[0m\u001b[0;34m\u001b[0m\u001b[0;34m\u001b[0m\u001b[0m\n\u001b[1;32m    684\u001b[0m         \u001b[0mvocab\u001b[0m\u001b[0;34m=\u001b[0m\u001b[0mvocab\u001b[0m\u001b[0;34m,\u001b[0m\u001b[0;34m\u001b[0m\u001b[0;34m\u001b[0m\u001b[0m\n",
            "\u001b[0;32m/usr/local/lib/python3.10/dist-packages/spacy/util.py\u001b[0m in \u001b[0;36mload_model_from_path\u001b[0;34m(model_path, meta, vocab, disable, enable, exclude, config)\u001b[0m\n\u001b[1;32m    537\u001b[0m     \u001b[0moverrides\u001b[0m \u001b[0;34m=\u001b[0m \u001b[0mdict_to_dot\u001b[0m\u001b[0;34m(\u001b[0m\u001b[0mconfig\u001b[0m\u001b[0;34m,\u001b[0m \u001b[0mfor_overrides\u001b[0m\u001b[0;34m=\u001b[0m\u001b[0;32mTrue\u001b[0m\u001b[0;34m)\u001b[0m\u001b[0;34m\u001b[0m\u001b[0;34m\u001b[0m\u001b[0m\n\u001b[1;32m    538\u001b[0m     \u001b[0mconfig\u001b[0m \u001b[0;34m=\u001b[0m \u001b[0mload_config\u001b[0m\u001b[0;34m(\u001b[0m\u001b[0mconfig_path\u001b[0m\u001b[0;34m,\u001b[0m \u001b[0moverrides\u001b[0m\u001b[0;34m=\u001b[0m\u001b[0moverrides\u001b[0m\u001b[0;34m)\u001b[0m\u001b[0;34m\u001b[0m\u001b[0;34m\u001b[0m\u001b[0m\n\u001b[0;32m--> 539\u001b[0;31m     nlp = load_model_from_config(\n\u001b[0m\u001b[1;32m    540\u001b[0m         \u001b[0mconfig\u001b[0m\u001b[0;34m,\u001b[0m\u001b[0;34m\u001b[0m\u001b[0;34m\u001b[0m\u001b[0m\n\u001b[1;32m    541\u001b[0m         \u001b[0mvocab\u001b[0m\u001b[0;34m=\u001b[0m\u001b[0mvocab\u001b[0m\u001b[0;34m,\u001b[0m\u001b[0;34m\u001b[0m\u001b[0;34m\u001b[0m\u001b[0m\n",
            "\u001b[0;32m/usr/local/lib/python3.10/dist-packages/spacy/util.py\u001b[0m in \u001b[0;36mload_model_from_config\u001b[0;34m(config, meta, vocab, disable, enable, exclude, auto_fill, validate)\u001b[0m\n\u001b[1;32m    585\u001b[0m     \u001b[0;31m# registry, including custom subclasses provided via entry points\u001b[0m\u001b[0;34m\u001b[0m\u001b[0;34m\u001b[0m\u001b[0m\n\u001b[1;32m    586\u001b[0m     \u001b[0mlang_cls\u001b[0m \u001b[0;34m=\u001b[0m \u001b[0mget_lang_class\u001b[0m\u001b[0;34m(\u001b[0m\u001b[0mnlp_config\u001b[0m\u001b[0;34m[\u001b[0m\u001b[0;34m\"lang\"\u001b[0m\u001b[0;34m]\u001b[0m\u001b[0;34m)\u001b[0m\u001b[0;34m\u001b[0m\u001b[0;34m\u001b[0m\u001b[0m\n\u001b[0;32m--> 587\u001b[0;31m     nlp = lang_cls.from_config(\n\u001b[0m\u001b[1;32m    588\u001b[0m         \u001b[0mconfig\u001b[0m\u001b[0;34m,\u001b[0m\u001b[0;34m\u001b[0m\u001b[0;34m\u001b[0m\u001b[0m\n\u001b[1;32m    589\u001b[0m         \u001b[0mvocab\u001b[0m\u001b[0;34m=\u001b[0m\u001b[0mvocab\u001b[0m\u001b[0;34m,\u001b[0m\u001b[0;34m\u001b[0m\u001b[0;34m\u001b[0m\u001b[0m\n",
            "\u001b[0;32m/usr/local/lib/python3.10/dist-packages/spacy/language.py\u001b[0m in \u001b[0;36mfrom_config\u001b[0;34m(cls, config, vocab, disable, enable, exclude, meta, auto_fill, validate)\u001b[0m\n\u001b[1;32m   1816\u001b[0m         \u001b[0;31m# then we would load them twice at runtime: once when we make from config,\u001b[0m\u001b[0;34m\u001b[0m\u001b[0;34m\u001b[0m\u001b[0m\n\u001b[1;32m   1817\u001b[0m         \u001b[0;31m# and then again when we load from disk.\u001b[0m\u001b[0;34m\u001b[0m\u001b[0;34m\u001b[0m\u001b[0m\n\u001b[0;32m-> 1818\u001b[0;31m         \u001b[0mnlp\u001b[0m \u001b[0;34m=\u001b[0m \u001b[0mlang_cls\u001b[0m\u001b[0;34m(\u001b[0m\u001b[0mvocab\u001b[0m\u001b[0;34m=\u001b[0m\u001b[0mvocab\u001b[0m\u001b[0;34m,\u001b[0m \u001b[0mcreate_tokenizer\u001b[0m\u001b[0;34m=\u001b[0m\u001b[0mcreate_tokenizer\u001b[0m\u001b[0;34m,\u001b[0m \u001b[0mmeta\u001b[0m\u001b[0;34m=\u001b[0m\u001b[0mmeta\u001b[0m\u001b[0;34m)\u001b[0m\u001b[0;34m\u001b[0m\u001b[0;34m\u001b[0m\u001b[0m\n\u001b[0m\u001b[1;32m   1819\u001b[0m         \u001b[0;32mif\u001b[0m \u001b[0mafter_creation\u001b[0m \u001b[0;32mis\u001b[0m \u001b[0;32mnot\u001b[0m \u001b[0;32mNone\u001b[0m\u001b[0;34m:\u001b[0m\u001b[0;34m\u001b[0m\u001b[0;34m\u001b[0m\u001b[0m\n\u001b[1;32m   1820\u001b[0m             \u001b[0mnlp\u001b[0m \u001b[0;34m=\u001b[0m \u001b[0mafter_creation\u001b[0m\u001b[0;34m(\u001b[0m\u001b[0mnlp\u001b[0m\u001b[0;34m)\u001b[0m\u001b[0;34m\u001b[0m\u001b[0;34m\u001b[0m\u001b[0m\n",
            "\u001b[0;32m/usr/local/lib/python3.10/dist-packages/spacy/language.py\u001b[0m in \u001b[0;36m__init__\u001b[0;34m(self, vocab, max_length, meta, create_tokenizer, batch_size, **kwargs)\u001b[0m\n\u001b[1;32m    211\u001b[0m             \u001b[0mtokenizer_cfg\u001b[0m \u001b[0;34m=\u001b[0m \u001b[0;34m{\u001b[0m\u001b[0;34m\"tokenizer\"\u001b[0m\u001b[0;34m:\u001b[0m \u001b[0mself\u001b[0m\u001b[0;34m.\u001b[0m\u001b[0m_config\u001b[0m\u001b[0;34m[\u001b[0m\u001b[0;34m\"nlp\"\u001b[0m\u001b[0;34m]\u001b[0m\u001b[0;34m[\u001b[0m\u001b[0;34m\"tokenizer\"\u001b[0m\u001b[0;34m]\u001b[0m\u001b[0;34m}\u001b[0m\u001b[0;34m\u001b[0m\u001b[0;34m\u001b[0m\u001b[0m\n\u001b[1;32m    212\u001b[0m             \u001b[0mcreate_tokenizer\u001b[0m \u001b[0;34m=\u001b[0m \u001b[0mregistry\u001b[0m\u001b[0;34m.\u001b[0m\u001b[0mresolve\u001b[0m\u001b[0;34m(\u001b[0m\u001b[0mtokenizer_cfg\u001b[0m\u001b[0;34m)\u001b[0m\u001b[0;34m[\u001b[0m\u001b[0;34m\"tokenizer\"\u001b[0m\u001b[0;34m]\u001b[0m\u001b[0;34m\u001b[0m\u001b[0;34m\u001b[0m\u001b[0m\n\u001b[0;32m--> 213\u001b[0;31m         \u001b[0mself\u001b[0m\u001b[0;34m.\u001b[0m\u001b[0mtokenizer\u001b[0m \u001b[0;34m=\u001b[0m \u001b[0mcreate_tokenizer\u001b[0m\u001b[0;34m(\u001b[0m\u001b[0mself\u001b[0m\u001b[0;34m)\u001b[0m\u001b[0;34m\u001b[0m\u001b[0;34m\u001b[0m\u001b[0m\n\u001b[0m\u001b[1;32m    214\u001b[0m         \u001b[0mself\u001b[0m\u001b[0;34m.\u001b[0m\u001b[0mbatch_size\u001b[0m \u001b[0;34m=\u001b[0m \u001b[0mbatch_size\u001b[0m\u001b[0;34m\u001b[0m\u001b[0;34m\u001b[0m\u001b[0m\n\u001b[1;32m    215\u001b[0m         \u001b[0mself\u001b[0m\u001b[0;34m.\u001b[0m\u001b[0mdefault_error_handler\u001b[0m \u001b[0;34m=\u001b[0m \u001b[0mraise_error\u001b[0m\u001b[0;34m\u001b[0m\u001b[0;34m\u001b[0m\u001b[0m\n",
            "\u001b[0;32m/usr/local/lib/python3.10/dist-packages/spacy/language.py\u001b[0m in \u001b[0;36mtokenizer_factory\u001b[0;34m(nlp)\u001b[0m\n\u001b[1;32m    113\u001b[0m         \u001b[0msuffix_search\u001b[0m \u001b[0;34m=\u001b[0m \u001b[0mutil\u001b[0m\u001b[0;34m.\u001b[0m\u001b[0mcompile_suffix_regex\u001b[0m\u001b[0;34m(\u001b[0m\u001b[0msuffixes\u001b[0m\u001b[0;34m)\u001b[0m\u001b[0;34m.\u001b[0m\u001b[0msearch\u001b[0m \u001b[0;32mif\u001b[0m \u001b[0msuffixes\u001b[0m \u001b[0;32melse\u001b[0m \u001b[0;32mNone\u001b[0m\u001b[0;34m\u001b[0m\u001b[0;34m\u001b[0m\u001b[0m\n\u001b[1;32m    114\u001b[0m         \u001b[0minfix_finditer\u001b[0m \u001b[0;34m=\u001b[0m \u001b[0mutil\u001b[0m\u001b[0;34m.\u001b[0m\u001b[0mcompile_infix_regex\u001b[0m\u001b[0;34m(\u001b[0m\u001b[0minfixes\u001b[0m\u001b[0;34m)\u001b[0m\u001b[0;34m.\u001b[0m\u001b[0mfinditer\u001b[0m \u001b[0;32mif\u001b[0m \u001b[0minfixes\u001b[0m \u001b[0;32melse\u001b[0m \u001b[0;32mNone\u001b[0m\u001b[0;34m\u001b[0m\u001b[0;34m\u001b[0m\u001b[0m\n\u001b[0;32m--> 115\u001b[0;31m         return Tokenizer(\n\u001b[0m\u001b[1;32m    116\u001b[0m             \u001b[0mnlp\u001b[0m\u001b[0;34m.\u001b[0m\u001b[0mvocab\u001b[0m\u001b[0;34m,\u001b[0m\u001b[0;34m\u001b[0m\u001b[0;34m\u001b[0m\u001b[0m\n\u001b[1;32m    117\u001b[0m             \u001b[0mrules\u001b[0m\u001b[0;34m=\u001b[0m\u001b[0mnlp\u001b[0m\u001b[0;34m.\u001b[0m\u001b[0mDefaults\u001b[0m\u001b[0;34m.\u001b[0m\u001b[0mtokenizer_exceptions\u001b[0m\u001b[0;34m,\u001b[0m\u001b[0;34m\u001b[0m\u001b[0;34m\u001b[0m\u001b[0m\n",
            "\u001b[0;32m/usr/local/lib/python3.10/dist-packages/spacy/tokenizer.pyx\u001b[0m in \u001b[0;36mspacy.tokenizer.Tokenizer.__init__\u001b[0;34m()\u001b[0m\n",
            "\u001b[0;32m/usr/local/lib/python3.10/dist-packages/spacy/tokenizer.pyx\u001b[0m in \u001b[0;36mspacy.tokenizer.Tokenizer._load_special_cases\u001b[0;34m()\u001b[0m\n",
            "\u001b[0;32m/usr/local/lib/python3.10/dist-packages/spacy/tokenizer.pyx\u001b[0m in \u001b[0;36mspacy.tokenizer.Tokenizer.add_special_case\u001b[0;34m()\u001b[0m\n",
            "\u001b[0;32m/usr/local/lib/python3.10/dist-packages/spacy/vocab.pyx\u001b[0m in \u001b[0;36mspacy.vocab.Vocab.make_fused_token\u001b[0;34m()\u001b[0m\n",
            "\u001b[0;32m/usr/local/lib/python3.10/dist-packages/spacy/vocab.pyx\u001b[0m in \u001b[0;36mspacy.vocab.Vocab.get_by_orth\u001b[0;34m()\u001b[0m\n",
            "\u001b[0;32m/usr/local/lib/python3.10/dist-packages/spacy/vocab.pyx\u001b[0m in \u001b[0;36mspacy.vocab.Vocab._new_lexeme\u001b[0;34m()\u001b[0m\n",
            "\u001b[0;32m/usr/local/lib/python3.10/dist-packages/spacy/lang/lex_attrs.py\u001b[0m in \u001b[0;36mlower\u001b[0;34m(string)\u001b[0m\n\u001b[1;32m    142\u001b[0m \u001b[0;34m\u001b[0m\u001b[0m\n\u001b[1;32m    143\u001b[0m \u001b[0;34m\u001b[0m\u001b[0m\n\u001b[0;32m--> 144\u001b[0;31m \u001b[0;32mdef\u001b[0m \u001b[0mlower\u001b[0m\u001b[0;34m(\u001b[0m\u001b[0mstring\u001b[0m\u001b[0;34m:\u001b[0m \u001b[0mstr\u001b[0m\u001b[0;34m)\u001b[0m \u001b[0;34m->\u001b[0m \u001b[0mstr\u001b[0m\u001b[0;34m:\u001b[0m\u001b[0;34m\u001b[0m\u001b[0;34m\u001b[0m\u001b[0m\n\u001b[0m\u001b[1;32m    145\u001b[0m     \u001b[0;32mreturn\u001b[0m \u001b[0mstring\u001b[0m\u001b[0;34m.\u001b[0m\u001b[0mlower\u001b[0m\u001b[0;34m(\u001b[0m\u001b[0;34m)\u001b[0m\u001b[0;34m\u001b[0m\u001b[0;34m\u001b[0m\u001b[0m\n\u001b[1;32m    146\u001b[0m \u001b[0;34m\u001b[0m\u001b[0m\n",
            "\u001b[0;31mKeyboardInterrupt\u001b[0m: "
          ]
        }
      ]
    },
    {
      "cell_type": "code",
      "source": [
        "# Writing .csv\n",
        "csvFilePath = \"movie_keyword_extraction_\" + str(keywordCount) + \".csv\"\n",
        "with open(csvFilePath, 'w', newline='', encoding='utf-8') as csvFile:\n",
        "    headers = ['MovieID', \"Keywords\"]\n",
        "    writer = csv.DictWriter(csvFile, fieldnames=headers)\n",
        "    writer.writeheader()\n",
        "\n",
        "    for idx in range(0, movieCount):\n",
        "        writer.writerow({'MovieID': movies[idx], 'Keywords': synopsis[idx]})"
      ],
      "metadata": {
        "colab": {
          "base_uri": "https://localhost:8080/",
          "height": 233
        },
        "id": "wqXgLOfLDwNx",
        "outputId": "67725612-ff9a-4f0f-ef7d-94239a07bcc0"
      },
      "execution_count": 6,
      "outputs": [
        {
          "output_type": "error",
          "ename": "IndexError",
          "evalue": "ignored",
          "traceback": [
            "\u001b[0;31m---------------------------------------------------------------------------\u001b[0m",
            "\u001b[0;31mIndexError\u001b[0m                                Traceback (most recent call last)",
            "\u001b[0;32m<ipython-input-6-e1de0b1bb450>\u001b[0m in \u001b[0;36m<cell line: 3>\u001b[0;34m()\u001b[0m\n\u001b[1;32m      7\u001b[0m \u001b[0;34m\u001b[0m\u001b[0m\n\u001b[1;32m      8\u001b[0m     \u001b[0;32mfor\u001b[0m \u001b[0midx\u001b[0m \u001b[0;32min\u001b[0m \u001b[0mrange\u001b[0m\u001b[0;34m(\u001b[0m\u001b[0;36m0\u001b[0m\u001b[0;34m,\u001b[0m \u001b[0mmovieCount\u001b[0m\u001b[0;34m)\u001b[0m\u001b[0;34m:\u001b[0m\u001b[0;34m\u001b[0m\u001b[0;34m\u001b[0m\u001b[0m\n\u001b[0;32m----> 9\u001b[0;31m         \u001b[0mwriter\u001b[0m\u001b[0;34m.\u001b[0m\u001b[0mwriterow\u001b[0m\u001b[0;34m(\u001b[0m\u001b[0;34m{\u001b[0m\u001b[0;34m'MovieID'\u001b[0m\u001b[0;34m:\u001b[0m \u001b[0mmovies\u001b[0m\u001b[0;34m[\u001b[0m\u001b[0midx\u001b[0m\u001b[0;34m]\u001b[0m\u001b[0;34m,\u001b[0m \u001b[0;34m'Keywords'\u001b[0m\u001b[0;34m:\u001b[0m \u001b[0msynopsis\u001b[0m\u001b[0;34m[\u001b[0m\u001b[0midx\u001b[0m\u001b[0;34m]\u001b[0m\u001b[0;34m}\u001b[0m\u001b[0;34m)\u001b[0m\u001b[0;34m\u001b[0m\u001b[0;34m\u001b[0m\u001b[0m\n\u001b[0m",
            "\u001b[0;31mIndexError\u001b[0m: list index out of range"
          ]
        }
      ]
    },
    {
      "cell_type": "code",
      "source": [
        "### book keyword extraction\n",
        "\n",
        "data = []\n",
        "book_ids = []\n",
        "book_summaries = []\n",
        "synopsis = []\n",
        "bookCount = 200\n",
        "keywordCount = 15\n",
        "kw_model = KeyBERT()\n",
        "sp_model = spacy.load(\"en_core_web_sm\")\n",
        "\n",
        "with open('booksummaries.txt', 'r') as f:\n",
        "    bookReader = csv.reader(f, dialect='excel-tab')\n",
        "    count = 0\n",
        "    for bookData in bookReader:\n",
        "      if count >= bookCount :\n",
        "        break\n",
        "      if count % 10 == 0:\n",
        "        print(f'Reading File.. ({count}/{bookCount})')\n",
        "\n",
        "      data.append(bookData)\n",
        "      count += 1\n",
        "\n",
        "# convert data to pandas dataframe\n",
        "books = pd.DataFrame.from_records(data, columns=['book_id', 'freebase_id', 'book_title', 'author', 'publication_date', 'genre', 'summary'])"
      ],
      "metadata": {
        "id": "rYQAaL6E-N-S",
        "colab": {
          "base_uri": "https://localhost:8080/"
        },
        "outputId": "2c28b431-df20-4f5d-ab8c-40207bdace93"
      },
      "execution_count": 86,
      "outputs": [
        {
          "output_type": "stream",
          "name": "stdout",
          "text": [
            "Reading File.. (0/200)\n",
            "Reading File.. (10/200)\n",
            "Reading File.. (20/200)\n",
            "Reading File.. (30/200)\n",
            "Reading File.. (40/200)\n",
            "Reading File.. (50/200)\n",
            "Reading File.. (60/200)\n",
            "Reading File.. (70/200)\n",
            "Reading File.. (80/200)\n",
            "Reading File.. (90/200)\n",
            "Reading File.. (100/200)\n",
            "Reading File.. (110/200)\n",
            "Reading File.. (120/200)\n",
            "Reading File.. (130/200)\n",
            "Reading File.. (140/200)\n",
            "Reading File.. (150/200)\n",
            "Reading File.. (160/200)\n",
            "Reading File.. (170/200)\n",
            "Reading File.. (180/200)\n",
            "Reading File.. (190/200)\n"
          ]
        }
      ]
    },
    {
      "cell_type": "code",
      "source": [
        "book_ids = list(books['book_id'])\n",
        "bookSummary = list(books['summary'])"
      ],
      "metadata": {
        "id": "WsSD_3B3-xDL",
        "colab": {
          "base_uri": "https://localhost:8080/",
          "height": 198
        },
        "outputId": "f84f6812-1216-4f0c-fc7a-bc2ae4846842"
      },
      "execution_count": 7,
      "outputs": [
        {
          "output_type": "error",
          "ename": "NameError",
          "evalue": "ignored",
          "traceback": [
            "\u001b[0;31m---------------------------------------------------------------------------\u001b[0m",
            "\u001b[0;31mNameError\u001b[0m                                 Traceback (most recent call last)",
            "\u001b[0;32m<ipython-input-7-214bcd8a701b>\u001b[0m in \u001b[0;36m<cell line: 1>\u001b[0;34m()\u001b[0m\n\u001b[0;32m----> 1\u001b[0;31m \u001b[0mbook_ids\u001b[0m \u001b[0;34m=\u001b[0m \u001b[0mlist\u001b[0m\u001b[0;34m(\u001b[0m\u001b[0mbooks\u001b[0m\u001b[0;34m[\u001b[0m\u001b[0;34m'book_id'\u001b[0m\u001b[0;34m]\u001b[0m\u001b[0;34m)\u001b[0m\u001b[0;34m\u001b[0m\u001b[0;34m\u001b[0m\u001b[0m\n\u001b[0m\u001b[1;32m      2\u001b[0m \u001b[0mbookSummary\u001b[0m \u001b[0;34m=\u001b[0m \u001b[0mlist\u001b[0m\u001b[0;34m(\u001b[0m\u001b[0mbooks\u001b[0m\u001b[0;34m[\u001b[0m\u001b[0;34m'summary'\u001b[0m\u001b[0;34m]\u001b[0m\u001b[0;34m)\u001b[0m\u001b[0;34m\u001b[0m\u001b[0;34m\u001b[0m\u001b[0m\n",
            "\u001b[0;31mNameError\u001b[0m: name 'books' is not defined"
          ]
        }
      ]
    },
    {
      "cell_type": "code",
      "source": [
        "count = 0\n",
        "\n",
        "for book_idx in range(0, bookCount):\n",
        "    if count >= bookCount:\n",
        "        break\n",
        "    if count % 10 == 0:\n",
        "        print(f'Reading File.. ({count}/{bookCount})')\n",
        "\n",
        "    keywords = kw_model.extract_keywords(bookSummary[book_idx], top_n=keywordCount)\n",
        "    keyList = [keyword[0] for keyword in keywords]\n",
        "    # extracting needless names\n",
        "    filtered_keywords = []\n",
        "    for keyword in keyList:\n",
        "        doc = sp_model(keyword)\n",
        "        is_name = any(token.ent_type_ == \"PERSON\" and token.ent_iob_ != '0' for token in doc)\n",
        "\n",
        "        if not is_name:\n",
        "            filtered_keywords.append(keyword)\n",
        "\n",
        "    keyString = ', '.join(filtered_keywords)\n",
        "\n",
        "    synopsis.append(keyString)\n",
        "\n",
        "    count += 1"
      ],
      "metadata": {
        "id": "tFUoaY2bSSgr",
        "colab": {
          "base_uri": "https://localhost:8080/"
        },
        "outputId": "7a562952-9ed5-44fb-bd1e-b6f34b511136"
      },
      "execution_count": 88,
      "outputs": [
        {
          "output_type": "stream",
          "name": "stdout",
          "text": [
            "Reading File.. (0/200)\n",
            "Reading File.. (10/200)\n",
            "Reading File.. (20/200)\n",
            "Reading File.. (30/200)\n",
            "Reading File.. (40/200)\n",
            "Reading File.. (50/200)\n",
            "Reading File.. (60/200)\n",
            "Reading File.. (70/200)\n",
            "Reading File.. (80/200)\n",
            "Reading File.. (90/200)\n",
            "Reading File.. (100/200)\n",
            "Reading File.. (110/200)\n",
            "Reading File.. (120/200)\n",
            "Reading File.. (130/200)\n",
            "Reading File.. (140/200)\n",
            "Reading File.. (150/200)\n",
            "Reading File.. (160/200)\n",
            "Reading File.. (170/200)\n",
            "Reading File.. (180/200)\n",
            "Reading File.. (190/200)\n"
          ]
        }
      ]
    },
    {
      "cell_type": "code",
      "source": [
        "# Writing .csv\n",
        "csvFilePath = \"book_keyword_extraction_\" + str(keywordCount) + \".csv\"\n",
        "with open(csvFilePath, 'w', newline='', encoding='utf-8') as csvFile:\n",
        "    headers = ['BookId', \"Keywords\"]\n",
        "    writer = csv.DictWriter(csvFile, fieldnames=headers)\n",
        "    writer.writeheader()\n",
        "\n",
        "    for idx in range(0, bookCount):\n",
        "        writer.writerow({'BookId': book_ids[idx], 'Keywords': synopsis[idx]})"
      ],
      "metadata": {
        "id": "JMxHn_DEwNHQ"
      },
      "execution_count": 92,
      "outputs": []
    },
    {
      "cell_type": "code",
      "source": [
        "model = KeyedVectors.load_word2vec_format('/content/drive/MyDrive/GoogleNews-vectors-negative300.bin', binary=True)"
      ],
      "metadata": {
        "id": "Jv0ndxdJl3z6"
      },
      "execution_count": 13,
      "outputs": []
    },
    {
      "cell_type": "code",
      "source": [
        "import csv\n",
        "book_data = open(\"book_keyword_extraction_15.csv\", \"r\")\n",
        "movie_data = open(\"movie_keyword_extraction_15.csv\", \"r\")"
      ],
      "metadata": {
        "id": "YB7jCeLsmlMo"
      },
      "execution_count": 23,
      "outputs": []
    },
    {
      "cell_type": "code",
      "source": [
        "book_rdr = csv.reader(book_data)\n",
        "movie_rdr = csv.reader(movie_data)"
      ],
      "metadata": {
        "id": "h5WfUuYrna7j"
      },
      "execution_count": 24,
      "outputs": []
    },
    {
      "cell_type": "code",
      "source": [
        "books = {book[0]:book[1].split(',') for book in book_rdr}\n",
        "movies = {movie[0]:movie[1].split(',') for movie in movie_rdr}"
      ],
      "metadata": {
        "id": "yd8mkDHencvD"
      },
      "execution_count": 25,
      "outputs": []
    },
    {
      "cell_type": "code",
      "source": [
        "def recommend_movie(book_id, recommend_count) :\n",
        "  if book_id not in books :\n",
        "    print(\"there is no book\")\n",
        "    return\n",
        "  book_keyword = books[book_id]\n",
        "  if len(book_keyword) == 0 :\n",
        "    print(\"there is no book summarization\")\n",
        "    return\n",
        "  res = []\n",
        "\n",
        "  for movie_id, movie_keyword in movies.items() :\n",
        "    if len(movie_keyword) == 0 :\n",
        "      continue\n",
        "    distance = model.wmdistance(book_keyword, movie_keyword)\n",
        "    res.append({'movie_id' : movie_id, 'distance' : distance})\n",
        "\n",
        "  sorted_res = sorted(res, key=lambda x: x['distance'])\n",
        "  # print(sorted_res)\n",
        "  return sorted_res[:recommend_count]\n"
      ],
      "metadata": {
        "id": "V4ltNrbVJipW"
      },
      "execution_count": 29,
      "outputs": []
    },
    {
      "cell_type": "code",
      "source": [
        "res = recommend_movie('620', 2)\n",
        "print(res)"
      ],
      "metadata": {
        "colab": {
          "base_uri": "https://localhost:8080/"
        },
        "id": "xkzMNbYSF_UP",
        "outputId": "8f098944-3290-4185-9326-af1c1efe3b76"
      },
      "execution_count": 30,
      "outputs": [
        {
          "output_type": "stream",
          "name": "stderr",
          "text": [
            "WARNING:gensim.models.keyedvectors:At least one of the documents had no words that were in the vocabulary.\n",
            "WARNING:gensim.models.keyedvectors:At least one of the documents had no words that were in the vocabulary.\n",
            "WARNING:gensim.models.keyedvectors:At least one of the documents had no words that were in the vocabulary.\n",
            "WARNING:gensim.models.keyedvectors:At least one of the documents had no words that were in the vocabulary.\n",
            "WARNING:gensim.models.keyedvectors:At least one of the documents had no words that were in the vocabulary.\n",
            "WARNING:gensim.models.keyedvectors:At least one of the documents had no words that were in the vocabulary.\n",
            "WARNING:gensim.models.keyedvectors:At least one of the documents had no words that were in the vocabulary.\n",
            "WARNING:gensim.models.keyedvectors:At least one of the documents had no words that were in the vocabulary.\n",
            "WARNING:gensim.models.keyedvectors:At least one of the documents had no words that were in the vocabulary.\n",
            "WARNING:gensim.models.keyedvectors:At least one of the documents had no words that were in the vocabulary.\n",
            "WARNING:gensim.models.keyedvectors:At least one of the documents had no words that were in the vocabulary.\n",
            "WARNING:gensim.models.keyedvectors:At least one of the documents had no words that were in the vocabulary.\n",
            "WARNING:gensim.models.keyedvectors:At least one of the documents had no words that were in the vocabulary.\n",
            "WARNING:gensim.models.keyedvectors:At least one of the documents had no words that were in the vocabulary.\n",
            "WARNING:gensim.models.keyedvectors:At least one of the documents had no words that were in the vocabulary.\n",
            "WARNING:gensim.models.keyedvectors:At least one of the documents had no words that were in the vocabulary.\n",
            "WARNING:gensim.models.keyedvectors:At least one of the documents had no words that were in the vocabulary.\n",
            "WARNING:gensim.models.keyedvectors:At least one of the documents had no words that were in the vocabulary.\n",
            "WARNING:gensim.models.keyedvectors:At least one of the documents had no words that were in the vocabulary.\n",
            "WARNING:gensim.models.keyedvectors:At least one of the documents had no words that were in the vocabulary.\n",
            "WARNING:gensim.models.keyedvectors:At least one of the documents had no words that were in the vocabulary.\n",
            "WARNING:gensim.models.keyedvectors:At least one of the documents had no words that were in the vocabulary.\n",
            "WARNING:gensim.models.keyedvectors:At least one of the documents had no words that were in the vocabulary.\n",
            "WARNING:gensim.models.keyedvectors:At least one of the documents had no words that were in the vocabulary.\n",
            "WARNING:gensim.models.keyedvectors:At least one of the documents had no words that were in the vocabulary.\n",
            "WARNING:gensim.models.keyedvectors:At least one of the documents had no words that were in the vocabulary.\n",
            "WARNING:gensim.models.keyedvectors:At least one of the documents had no words that were in the vocabulary.\n",
            "WARNING:gensim.models.keyedvectors:At least one of the documents had no words that were in the vocabulary.\n",
            "WARNING:gensim.models.keyedvectors:At least one of the documents had no words that were in the vocabulary.\n",
            "WARNING:gensim.models.keyedvectors:At least one of the documents had no words that were in the vocabulary.\n",
            "WARNING:gensim.models.keyedvectors:At least one of the documents had no words that were in the vocabulary.\n",
            "WARNING:gensim.models.keyedvectors:At least one of the documents had no words that were in the vocabulary.\n",
            "WARNING:gensim.models.keyedvectors:At least one of the documents had no words that were in the vocabulary.\n",
            "WARNING:gensim.models.keyedvectors:At least one of the documents had no words that were in the vocabulary.\n",
            "WARNING:gensim.models.keyedvectors:At least one of the documents had no words that were in the vocabulary.\n",
            "WARNING:gensim.models.keyedvectors:At least one of the documents had no words that were in the vocabulary.\n",
            "WARNING:gensim.models.keyedvectors:At least one of the documents had no words that were in the vocabulary.\n",
            "WARNING:gensim.models.keyedvectors:At least one of the documents had no words that were in the vocabulary.\n",
            "WARNING:gensim.models.keyedvectors:At least one of the documents had no words that were in the vocabulary.\n",
            "WARNING:gensim.models.keyedvectors:At least one of the documents had no words that were in the vocabulary.\n",
            "WARNING:gensim.models.keyedvectors:At least one of the documents had no words that were in the vocabulary.\n",
            "WARNING:gensim.models.keyedvectors:At least one of the documents had no words that were in the vocabulary.\n",
            "WARNING:gensim.models.keyedvectors:At least one of the documents had no words that were in the vocabulary.\n",
            "WARNING:gensim.models.keyedvectors:At least one of the documents had no words that were in the vocabulary.\n",
            "WARNING:gensim.models.keyedvectors:At least one of the documents had no words that were in the vocabulary.\n",
            "WARNING:gensim.models.keyedvectors:At least one of the documents had no words that were in the vocabulary.\n",
            "WARNING:gensim.models.keyedvectors:At least one of the documents had no words that were in the vocabulary.\n",
            "WARNING:gensim.models.keyedvectors:At least one of the documents had no words that were in the vocabulary.\n",
            "WARNING:gensim.models.keyedvectors:At least one of the documents had no words that were in the vocabulary.\n",
            "WARNING:gensim.models.keyedvectors:At least one of the documents had no words that were in the vocabulary.\n",
            "WARNING:gensim.models.keyedvectors:At least one of the documents had no words that were in the vocabulary.\n",
            "WARNING:gensim.models.keyedvectors:At least one of the documents had no words that were in the vocabulary.\n",
            "WARNING:gensim.models.keyedvectors:At least one of the documents had no words that were in the vocabulary.\n",
            "WARNING:gensim.models.keyedvectors:At least one of the documents had no words that were in the vocabulary.\n",
            "WARNING:gensim.models.keyedvectors:At least one of the documents had no words that were in the vocabulary.\n",
            "WARNING:gensim.models.keyedvectors:At least one of the documents had no words that were in the vocabulary.\n",
            "WARNING:gensim.models.keyedvectors:At least one of the documents had no words that were in the vocabulary.\n",
            "WARNING:gensim.models.keyedvectors:At least one of the documents had no words that were in the vocabulary.\n",
            "WARNING:gensim.models.keyedvectors:At least one of the documents had no words that were in the vocabulary.\n",
            "WARNING:gensim.models.keyedvectors:At least one of the documents had no words that were in the vocabulary.\n",
            "WARNING:gensim.models.keyedvectors:At least one of the documents had no words that were in the vocabulary.\n",
            "WARNING:gensim.models.keyedvectors:At least one of the documents had no words that were in the vocabulary.\n",
            "WARNING:gensim.models.keyedvectors:At least one of the documents had no words that were in the vocabulary.\n",
            "WARNING:gensim.models.keyedvectors:At least one of the documents had no words that were in the vocabulary.\n",
            "WARNING:gensim.models.keyedvectors:At least one of the documents had no words that were in the vocabulary.\n",
            "WARNING:gensim.models.keyedvectors:At least one of the documents had no words that were in the vocabulary.\n",
            "WARNING:gensim.models.keyedvectors:At least one of the documents had no words that were in the vocabulary.\n",
            "WARNING:gensim.models.keyedvectors:At least one of the documents had no words that were in the vocabulary.\n"
          ]
        },
        {
          "output_type": "stream",
          "name": "stdout",
          "text": [
            "[{'movie_id': 'tt1872181', 'distance': 1.091564266316181}, {'movie_id': 'tt0388795', 'distance': 1.1472720195116062}]\n"
          ]
        }
      ]
    },
    {
      "cell_type": "code",
      "source": [
        "def recommend_among_movies(movie_id, recommend_count) :\n",
        "  movie_keyword = movies[movie_id]\n",
        "  res = []\n",
        "\n",
        "  for comp_movie_id, comp_movie_keyword in movies.items() :\n",
        "    if len(comp_movie_keyword) == 0 :\n",
        "      continue\n",
        "    if movie_id == comp_movie_id :\n",
        "      continue\n",
        "    distance = model.wmdistance(movie_keyword, comp_movie_keyword)\n",
        "    res.append({'movie_id' : comp_movie_id, 'distance' : distance})\n",
        "\n",
        "  sorted_res = sorted(res, key=lambda x: x['distance'])\n",
        "  # print(sorted_res)\n",
        "  return sorted_res[:recommend_count]"
      ],
      "metadata": {
        "id": "LvnG33D7Q88q"
      },
      "execution_count": 31,
      "outputs": []
    },
    {
      "cell_type": "code",
      "source": [
        "recommend_among_movies('tt0450259', 5)"
      ],
      "metadata": {
        "colab": {
          "base_uri": "https://localhost:8080/"
        },
        "id": "iu6ZIcyISCky",
        "outputId": "aa911194-b40d-41cd-a3ac-a6ff3035dd6a"
      },
      "execution_count": 32,
      "outputs": [
        {
          "output_type": "stream",
          "name": "stderr",
          "text": [
            "WARNING:gensim.models.keyedvectors:At least one of the documents had no words that were in the vocabulary.\n",
            "WARNING:gensim.models.keyedvectors:At least one of the documents had no words that were in the vocabulary.\n",
            "WARNING:gensim.models.keyedvectors:At least one of the documents had no words that were in the vocabulary.\n",
            "WARNING:gensim.models.keyedvectors:At least one of the documents had no words that were in the vocabulary.\n",
            "WARNING:gensim.models.keyedvectors:At least one of the documents had no words that were in the vocabulary.\n",
            "WARNING:gensim.models.keyedvectors:At least one of the documents had no words that were in the vocabulary.\n",
            "WARNING:gensim.models.keyedvectors:At least one of the documents had no words that were in the vocabulary.\n",
            "WARNING:gensim.models.keyedvectors:At least one of the documents had no words that were in the vocabulary.\n",
            "WARNING:gensim.models.keyedvectors:At least one of the documents had no words that were in the vocabulary.\n",
            "WARNING:gensim.models.keyedvectors:At least one of the documents had no words that were in the vocabulary.\n",
            "WARNING:gensim.models.keyedvectors:At least one of the documents had no words that were in the vocabulary.\n",
            "WARNING:gensim.models.keyedvectors:At least one of the documents had no words that were in the vocabulary.\n",
            "WARNING:gensim.models.keyedvectors:At least one of the documents had no words that were in the vocabulary.\n",
            "WARNING:gensim.models.keyedvectors:At least one of the documents had no words that were in the vocabulary.\n",
            "WARNING:gensim.models.keyedvectors:At least one of the documents had no words that were in the vocabulary.\n",
            "WARNING:gensim.models.keyedvectors:At least one of the documents had no words that were in the vocabulary.\n",
            "WARNING:gensim.models.keyedvectors:At least one of the documents had no words that were in the vocabulary.\n",
            "WARNING:gensim.models.keyedvectors:At least one of the documents had no words that were in the vocabulary.\n",
            "WARNING:gensim.models.keyedvectors:At least one of the documents had no words that were in the vocabulary.\n",
            "WARNING:gensim.models.keyedvectors:At least one of the documents had no words that were in the vocabulary.\n",
            "WARNING:gensim.models.keyedvectors:At least one of the documents had no words that were in the vocabulary.\n",
            "WARNING:gensim.models.keyedvectors:At least one of the documents had no words that were in the vocabulary.\n",
            "WARNING:gensim.models.keyedvectors:At least one of the documents had no words that were in the vocabulary.\n",
            "WARNING:gensim.models.keyedvectors:At least one of the documents had no words that were in the vocabulary.\n",
            "WARNING:gensim.models.keyedvectors:At least one of the documents had no words that were in the vocabulary.\n",
            "WARNING:gensim.models.keyedvectors:At least one of the documents had no words that were in the vocabulary.\n",
            "WARNING:gensim.models.keyedvectors:At least one of the documents had no words that were in the vocabulary.\n",
            "WARNING:gensim.models.keyedvectors:At least one of the documents had no words that were in the vocabulary.\n",
            "WARNING:gensim.models.keyedvectors:At least one of the documents had no words that were in the vocabulary.\n",
            "WARNING:gensim.models.keyedvectors:At least one of the documents had no words that were in the vocabulary.\n",
            "WARNING:gensim.models.keyedvectors:At least one of the documents had no words that were in the vocabulary.\n",
            "WARNING:gensim.models.keyedvectors:At least one of the documents had no words that were in the vocabulary.\n",
            "WARNING:gensim.models.keyedvectors:At least one of the documents had no words that were in the vocabulary.\n",
            "WARNING:gensim.models.keyedvectors:At least one of the documents had no words that were in the vocabulary.\n",
            "WARNING:gensim.models.keyedvectors:At least one of the documents had no words that were in the vocabulary.\n",
            "WARNING:gensim.models.keyedvectors:At least one of the documents had no words that were in the vocabulary.\n",
            "WARNING:gensim.models.keyedvectors:At least one of the documents had no words that were in the vocabulary.\n",
            "WARNING:gensim.models.keyedvectors:At least one of the documents had no words that were in the vocabulary.\n",
            "WARNING:gensim.models.keyedvectors:At least one of the documents had no words that were in the vocabulary.\n",
            "WARNING:gensim.models.keyedvectors:At least one of the documents had no words that were in the vocabulary.\n",
            "WARNING:gensim.models.keyedvectors:At least one of the documents had no words that were in the vocabulary.\n",
            "WARNING:gensim.models.keyedvectors:At least one of the documents had no words that were in the vocabulary.\n",
            "WARNING:gensim.models.keyedvectors:At least one of the documents had no words that were in the vocabulary.\n",
            "WARNING:gensim.models.keyedvectors:At least one of the documents had no words that were in the vocabulary.\n",
            "WARNING:gensim.models.keyedvectors:At least one of the documents had no words that were in the vocabulary.\n",
            "WARNING:gensim.models.keyedvectors:At least one of the documents had no words that were in the vocabulary.\n",
            "WARNING:gensim.models.keyedvectors:At least one of the documents had no words that were in the vocabulary.\n",
            "WARNING:gensim.models.keyedvectors:At least one of the documents had no words that were in the vocabulary.\n",
            "WARNING:gensim.models.keyedvectors:At least one of the documents had no words that were in the vocabulary.\n",
            "WARNING:gensim.models.keyedvectors:At least one of the documents had no words that were in the vocabulary.\n",
            "WARNING:gensim.models.keyedvectors:At least one of the documents had no words that were in the vocabulary.\n",
            "WARNING:gensim.models.keyedvectors:At least one of the documents had no words that were in the vocabulary.\n",
            "WARNING:gensim.models.keyedvectors:At least one of the documents had no words that were in the vocabulary.\n",
            "WARNING:gensim.models.keyedvectors:At least one of the documents had no words that were in the vocabulary.\n",
            "WARNING:gensim.models.keyedvectors:At least one of the documents had no words that were in the vocabulary.\n",
            "WARNING:gensim.models.keyedvectors:At least one of the documents had no words that were in the vocabulary.\n",
            "WARNING:gensim.models.keyedvectors:At least one of the documents had no words that were in the vocabulary.\n",
            "WARNING:gensim.models.keyedvectors:At least one of the documents had no words that were in the vocabulary.\n",
            "WARNING:gensim.models.keyedvectors:At least one of the documents had no words that were in the vocabulary.\n",
            "WARNING:gensim.models.keyedvectors:At least one of the documents had no words that were in the vocabulary.\n",
            "WARNING:gensim.models.keyedvectors:At least one of the documents had no words that were in the vocabulary.\n",
            "WARNING:gensim.models.keyedvectors:At least one of the documents had no words that were in the vocabulary.\n",
            "WARNING:gensim.models.keyedvectors:At least one of the documents had no words that were in the vocabulary.\n",
            "WARNING:gensim.models.keyedvectors:At least one of the documents had no words that were in the vocabulary.\n",
            "WARNING:gensim.models.keyedvectors:At least one of the documents had no words that were in the vocabulary.\n",
            "WARNING:gensim.models.keyedvectors:At least one of the documents had no words that were in the vocabulary.\n",
            "WARNING:gensim.models.keyedvectors:At least one of the documents had no words that were in the vocabulary.\n",
            "WARNING:gensim.models.keyedvectors:At least one of the documents had no words that were in the vocabulary.\n"
          ]
        },
        {
          "output_type": "execute_result",
          "data": {
            "text/plain": [
              "[{'movie_id': 'tt0120794', 'distance': 1.1201891688829348},\n",
              " {'movie_id': 'tt1798603', 'distance': 1.1279016737606011},\n",
              " {'movie_id': 'tt0458352', 'distance': 1.1410306627941527},\n",
              " {'movie_id': 'tt0120586', 'distance': 1.1427710488040026},\n",
              " {'movie_id': 'tt1120985', 'distance': 1.1444454559896178}]"
            ]
          },
          "metadata": {},
          "execution_count": 32
        }
      ]
    },
    {
      "cell_type": "code",
      "source": [
        "def show_similarity(book_id, movie_id) :\n",
        "  book_keyword = books[book_id]\n",
        "  movie_keyword = movies[movie_id]\n",
        "\n",
        "  # 두 키워드 리스트를 합칩니다.\n",
        "  all_keywords = book_keyword + movie_keyword\n",
        "\n",
        "  # Word2Vec 모델을 초기화합니다.\n",
        "  visualize_model = Word2Vec([all_keywords], vector_size=100, window=5, min_count=1, sg=1)\n",
        "  # 합쳐진 키워드 리스트에 대한 각 키워드의 벡터를 가져옵니다.\n",
        "  keyword_vectors = np.array([visualize_model.wv[keyword] for keyword in all_keywords])\n",
        "\n",
        "  # t-SNE를 사용하여 키워드 간의 유사도를 시각화합니다 (2차원).\n",
        "  tsne = TSNE(n_components=2, random_state=42)\n",
        "  embeddings_2d = tsne.fit_transform(keyword_vectors)\n",
        "\n",
        "  # 시각화\n",
        "  plt.figure(figsize=(10, 6))\n",
        "  plt.scatter(embeddings_2d[:, 0], embeddings_2d[:, 1], color='blue')\n",
        "\n",
        "  # 각 데이터 포인트에 해당하는 키워드와 유사도 레이블을 추가합니다.\n",
        "  for i, keyword in enumerate(all_keywords):\n",
        "    x, y = embeddings_2d[i]\n",
        "    plt.annotate(f'{keyword} : {visualize_model.wv.similarity(keyword, all_keywords[0]):.2f}', (x, y))\n",
        "\n",
        "  plt.show()"
      ],
      "metadata": {
        "id": "_WKe-4aL91mJ"
      },
      "execution_count": 35,
      "outputs": []
    },
    {
      "cell_type": "code",
      "source": [
        "show_similarity('620', 'tt0450259')"
      ],
      "metadata": {
        "colab": {
          "base_uri": "https://localhost:8080/",
          "height": 402
        },
        "id": "6p9pQPUq_Fxs",
        "outputId": "a71c8816-867b-4ebd-a1e4-e53ef894d02d"
      },
      "execution_count": 36,
      "outputs": [
        {
          "output_type": "display_data",
          "data": {
            "text/plain": [
              "<Figure size 1000x600 with 1 Axes>"
            ],
            "image/png": "[encoded data removed]"
          },
          "metadata": {}
        }
      ]
    }
  ]
}